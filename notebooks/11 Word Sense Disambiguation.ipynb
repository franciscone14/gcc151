{
 "cells": [
  {
   "cell_type": "markdown",
   "metadata": {},
   "source": [
    "# Word Sense Disambiguation\n",
    "### Using wordnet\n",
    "Do not forget to donwload: ```nltk.download()```\n",
    "\n",
    "See http://www.nltk.org/howto/wordnet.html"
   ]
  },
  {
   "cell_type": "code",
   "execution_count": 2,
   "metadata": {},
   "outputs": [
    {
     "name": "stderr",
     "output_type": "stream",
     "text": [
      "[nltk_data] Downloading package wordnet to /home/aluno/nltk_data...\n",
      "[nltk_data]   Package wordnet is already up-to-date!\n",
      "[nltk_data] Downloading package omw to /home/aluno/nltk_data...\n",
      "[nltk_data]   Unzipping corpora/omw.zip.\n"
     ]
    },
    {
     "data": {
      "text/plain": [
       "True"
      ]
     },
     "execution_count": 2,
     "metadata": {},
     "output_type": "execute_result"
    }
   ],
   "source": [
    "import nltk\n",
    "nltk.download('wordnet')\n",
    "nltk.download('omw')"
   ]
  },
  {
   "cell_type": "code",
   "execution_count": 3,
   "metadata": {},
   "outputs": [],
   "source": [
    "from nltk.corpus import wordnet"
   ]
  },
  {
   "cell_type": "code",
   "execution_count": 4,
   "metadata": {},
   "outputs": [
    {
     "data": {
      "text/plain": [
       "'a member of the genus Canis (probably descended from the common wolf) that has been domesticated by man since prehistoric times; occurs in many breeds'"
      ]
     },
     "execution_count": 4,
     "metadata": {},
     "output_type": "execute_result"
    }
   ],
   "source": [
    "wordnet.synset('dog.n.01').definition()"
   ]
  },
  {
   "cell_type": "code",
   "execution_count": 5,
   "metadata": {},
   "outputs": [
    {
     "name": "stdout",
     "output_type": "stream",
     "text": [
      "Synset('dog.n.01')\n",
      "0 -> a member of the genus Canis (probably descended from the common wolf) that has been domesticated by man since prehistoric times; occurs in many breeds\n",
      "Synset('frump.n.01')\n",
      "1 -> a dull unattractive unpleasant girl or woman\n",
      "Synset('dog.n.03')\n",
      "2 -> informal term for a man\n",
      "Synset('cad.n.01')\n",
      "3 -> someone who is morally reprehensible\n",
      "Synset('frank.n.02')\n",
      "4 -> a smooth-textured sausage of minced beef or pork usually smoked; often served on a bread roll\n",
      "Synset('pawl.n.01')\n",
      "5 -> a hinged catch that fits into a notch of a ratchet to move a wheel forward or prevent it from moving backward\n",
      "Synset('andiron.n.01')\n",
      "6 -> metal supports for logs in a fireplace\n",
      "Synset('chase.v.01')\n",
      "7 -> go after with the intent to catch\n"
     ]
    }
   ],
   "source": [
    "dog_synsets = wordnet.synsets('dog')\n",
    "for i, dog in enumerate(dog_synsets):\n",
    "    print(dog)\n",
    "    print('{} -> {}'.format(i, dog.definition()))"
   ]
  },
  {
   "cell_type": "code",
   "execution_count": 6,
   "metadata": {},
   "outputs": [
    {
     "name": "stdout",
     "output_type": "stream",
     "text": [
      "[Synset('cat.n.01'), Synset('guy.n.01'), Synset('cat.n.03'), Synset('kat.n.01'), Synset('cat-o'-nine-tails.n.01'), Synset('caterpillar.n.02'), Synset('big_cat.n.01'), Synset('computerized_tomography.n.01'), Synset('cat.v.01'), Synset('vomit.v.01')]\n",
      "[]\n",
      "[Synset('carnivore.n.01')]\n",
      "[Synset('vertebrate.n.01')]\n"
     ]
    }
   ],
   "source": [
    "# Verificar a relação de proximidade entre duas palavras\n",
    "print(wordnet.synsets('cat'))\n",
    "print(wordnet.synsets('dog.n.01'))\n",
    "print(wordnet.synset('dog.n.01').lowest_common_hypernyms(wordnet.synset('cat.n.01')))\n",
    "print(wordnet.synset('dog.n.01').lowest_common_hypernyms(wordnet.synset('duck.n.01')))"
   ]
  },
  {
   "cell_type": "code",
   "execution_count": 7,
   "metadata": {},
   "outputs": [
    {
     "name": "stdout",
     "output_type": "stream",
     "text": [
      "Synset('beach_wagon.n.01')\n",
      "0 -> a car that has a long body and rear door with space behind rear seat\n",
      "Synset('car.n.01')\n",
      "1 -> a motor vehicle with four wheels; usually propelled by an internal combustion engine\n",
      "Synset('car.n.02')\n",
      "2 -> a wheeled vehicle adapted to the rails of railroad\n",
      "Synset('cart.n.01')\n",
      "3 -> a heavy open wagon usually having two wheels and drawn by an animal\n"
     ]
    }
   ],
   "source": [
    "carro_synsets = wordnet.synsets('carro', lang='por')\n",
    "\n",
    "for i, c in enumerate(carro_synsets):\n",
    "    print(c)\n",
    "    print('{} -> {}'.format(i, c.definition()))"
   ]
  },
  {
   "cell_type": "markdown",
   "metadata": {},
   "source": [
    "# Lesk algorithm"
   ]
  },
  {
   "cell_type": "code",
   "execution_count": 21,
   "metadata": {
    "scrolled": true
   },
   "outputs": [],
   "source": [
    "from nltk.wsd import lesk\n",
    "from nltk.tokenize import word_tokenize\n",
    "from py_translator import Translator\n",
    "\n",
    "def translate(text):\n",
    "    return Translator().translate(text=text, dest='pt').text\n",
    "\n",
    "def translate_en(text):\n",
    "    return Translator().translate(text=text, dest='en').text"
   ]
  },
  {
   "cell_type": "code",
   "execution_count": 11,
   "metadata": {},
   "outputs": [
    {
     "name": "stderr",
     "output_type": "stream",
     "text": [
      "[nltk_data] Downloading package punkt to /home/aluno/nltk_data...\n",
      "[nltk_data]   Unzipping tokenizers/punkt.zip.\n"
     ]
    },
    {
     "name": "stdout",
     "output_type": "stream",
     "text": [
      "Synset('dog.n.03') informal term for a man  ===>  termo informal para um homem\n"
     ]
    }
   ],
   "source": [
    "nltk.download('punkt')\n",
    "sentence = word_tokenize('this dog is your man')\n",
    "s = lesk(sentence, 'dog')\n",
    "\n",
    "print(s, s.definition(), \" ===> \", translate(s.definition()))"
   ]
  },
  {
   "cell_type": "code",
   "execution_count": 12,
   "metadata": {},
   "outputs": [
    {
     "name": "stdout",
     "output_type": "stream",
     "text": [
      "Synset('pawl.n.01') a hinged catch that fits into a notch of a ratchet to move a wheel forward or prevent it from moving backward  ===>  uma trava articulada que cabe em um entalhe de uma catraca para mover uma roda para a frente ou impedir que ela se mova para trás\n"
     ]
    }
   ],
   "source": [
    "sentence = word_tokenize('I love my dog, it is my friend')\n",
    "s = lesk(sentence, 'dog')\n",
    "\n",
    "print(s, s.definition(), \" ===> \", translate(s.definition()))"
   ]
  },
  {
   "cell_type": "code",
   "execution_count": 13,
   "metadata": {},
   "outputs": [
    {
     "name": "stdout",
     "output_type": "stream",
     "text": [
      "Synset('pawl.n.01') a hinged catch that fits into a notch of a ratchet to move a wheel forward or prevent it from moving backward  ===>  uma trava articulada que cabe em um entalhe de uma catraca para mover uma roda para a frente ou impedir que ela se mova para trás\n"
     ]
    }
   ],
   "source": [
    "sentence = word_tokenize('My animal is a dog')\n",
    "s = lesk(sentence, 'dog')\n",
    "\n",
    "print(s, s.definition(), \" ===> \", translate(s.definition()))"
   ]
  },
  {
   "cell_type": "code",
   "execution_count": 14,
   "metadata": {},
   "outputs": [
    {
     "name": "stdout",
     "output_type": "stream",
     "text": [
      "Synset('dog.n.01') a member of the genus Canis (probably descended from the common wolf) that has been domesticated by man since prehistoric times; occurs in many breeds  ===>  um membro do gênero Canis (provavelmente descendente do lobo comum) que foi domesticado pelo homem desde os tempos pré-históricos; ocorre em muitas raças\n"
     ]
    }
   ],
   "source": [
    "sentence = word_tokenize('My domesticated animal is a dog')\n",
    "s = lesk(sentence, 'dog')\n",
    "\n",
    "print(s, s.definition(), \" ===> \", translate(s.definition()))"
   ]
  },
  {
   "cell_type": "code",
   "execution_count": 20,
   "metadata": {},
   "outputs": [
    {
     "name": "stdout",
     "output_type": "stream",
     "text": [
      "Synset('pawl.n.01') a hinged catch that fits into a notch of a ratchet to move a wheel forward or prevent it from moving backward  ===>  uma trava articulada que cabe em um entalhe de uma catraca para mover uma roda para a frente ou impedir que ela se mova para trás\n"
     ]
    }
   ],
   "source": [
    "sentence = word_tokenize('My pet is a dog')\n",
    "s = lesk(sentence, 'dog')\n",
    "\n",
    "print(s, s.definition(), \" ===> \", translate(s.definition()))"
   ]
  },
  {
   "cell_type": "code",
   "execution_count": 31,
   "metadata": {},
   "outputs": [
    {
     "name": "stdout",
     "output_type": "stream",
     "text": [
      "Digite a frase que deseja desanbiguar:Você é um irmão para mim\n",
      "Digite a palavra que possui ambiguidade:irmão\n",
      "Synset('brother.n.05') (Igreja Católica Romana) um título dado a um monge e usado como forma de endereço\n"
     ]
    }
   ],
   "source": [
    "sentence = input(\"Digite a frase que deseja desanbiguar:\")\n",
    "palavra = input(\"Digite a palavra que possui ambiguidade:\")\n",
    "\n",
    "en_sentence = translate_en(sentence)\n",
    "\n",
    "sentence = word_tokenize(en_sentence)\n",
    "s = lesk(sentence, translate_en(palavra))\n",
    "\n",
    "print(s, translate(s.definition()))"
   ]
  }
 ],
 "metadata": {
  "kernelspec": {
   "display_name": "Python 3",
   "language": "python",
   "name": "python3"
  },
  "language_info": {
   "codemirror_mode": {
    "name": "ipython",
    "version": 3
   },
   "file_extension": ".py",
   "mimetype": "text/x-python",
   "name": "python",
   "nbconvert_exporter": "python",
   "pygments_lexer": "ipython3",
   "version": "3.5.2"
  }
 },
 "nbformat": 4,
 "nbformat_minor": 2
}
