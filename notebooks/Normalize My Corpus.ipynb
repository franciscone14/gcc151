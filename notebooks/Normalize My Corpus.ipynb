{
 "cells": [
  {
   "cell_type": "code",
   "execution_count": 1,
   "metadata": {},
   "outputs": [],
   "source": [
    "import os\n",
    "from franc_lib import lexical"
   ]
  },
  {
   "cell_type": "code",
   "execution_count": 2,
   "metadata": {},
   "outputs": [],
   "source": [
    "education_corpus = \"data/corpora/educacao/\"\n",
    "\n",
    "files = [f for f in os.listdir(education_corpus) if os.path.isfile(os.path.join(education_corpus, f))]\n",
    "\n",
    "education_corpus_lines = []\n",
    "for file in files:\n",
    "    with open(os.path.join(education_corpus, file), \"r\") as text_file:\n",
    "        lines = text_file.readlines()\n",
    "        education_corpus_lines.extend(lines)"
   ]
  },
  {
   "cell_type": "code",
   "execution_count": 3,
   "metadata": {},
   "outputs": [],
   "source": [
    "sensationalist_corpus = \"data/corpora/sensacionalista/\"\n",
    "\n",
    "files = [f for f in os.listdir(sensationalist_corpus) if os.path.isfile(os.path.join(sensationalist_corpus, f))]\n",
    "\n",
    "sensationalist_corpus_lines = []\n",
    "for file in files:\n",
    "    with open(os.path.join(sensationalist_corpus, file), \"r\") as text_file:\n",
    "        lines = text_file.readlines()\n",
    "        sensationalist_corpus_lines.extend(lines)"
   ]
  },
  {
   "cell_type": "code",
   "execution_count": 4,
   "metadata": {},
   "outputs": [],
   "source": [
    "norm_edu = lexical.Preprocessing(file_name='corpus_education')\n",
    "norm_sen = lexical.Preprocessing(file_name='corpus_sensationalist')"
   ]
  },
  {
   "cell_type": "code",
   "execution_count": 5,
   "metadata": {},
   "outputs": [],
   "source": [
    "for text in education_corpus_lines:\n",
    "    norm_edu.normalization_pipeline(text, remove_accents=True, remove_punctuation=True, \n",
    "            tokenize_sentences=True, tokenize_words=True, \n",
    "            lemmatize=False, stemmize=True, save=True)\n"
   ]
  },
  {
   "cell_type": "code",
   "execution_count": 6,
   "metadata": {},
   "outputs": [],
   "source": [
    "for text in sensationalist_corpus_lines:\n",
    "    norm_sen.normalization_pipeline(text, remove_accents=True, remove_punctuation=True, \n",
    "            tokenize_sentences=True, tokenize_words=True, \n",
    "            lemmatize=False, stemmize=True, save=True)"
   ]
  },
  {
   "cell_type": "code",
   "execution_count": null,
   "metadata": {},
   "outputs": [],
   "source": []
  }
 ],
 "metadata": {
  "kernelspec": {
   "display_name": "Python 3",
   "language": "python",
   "name": "python3"
  },
  "language_info": {
   "codemirror_mode": {
    "name": "ipython",
    "version": 3
   },
   "file_extension": ".py",
   "mimetype": "text/x-python",
   "name": "python",
   "nbconvert_exporter": "python",
   "pygments_lexer": "ipython3",
   "version": "3.5.3"
  }
 },
 "nbformat": 4,
 "nbformat_minor": 2
}
