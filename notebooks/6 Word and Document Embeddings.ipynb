{
 "cells": [
  {
   "cell_type": "code",
   "execution_count": 1,
   "metadata": {},
   "outputs": [],
   "source": [
    "from franc_lib import lexical\n",
    "from gensim.models import Word2Vec, Doc2Vec\n",
    "from gensim.models.doc2vec import TaggedDocument\n",
    "import os"
   ]
  },
  {
   "cell_type": "code",
   "execution_count": 2,
   "metadata": {},
   "outputs": [],
   "source": [
    "normalizer = lexical.Preprocessing(file_name='corpus_politics')"
   ]
  },
  {
   "cell_type": "code",
   "execution_count": 3,
   "metadata": {},
   "outputs": [],
   "source": [
    "corpora_path = 'data/corpora'\n",
    "files_tecnologia = os.listdir('{}/saude/'.format(corpora_path))\n",
    "files_tecnologia = ['{}/saude/{}'.format(corpora_path,f) for f in files_tecnologia if f != '.DS_Store']\n",
    "files_politica = os.listdir('{}/politica/'.format(corpora_path))\n",
    "files_politica = ['{}/politica/{}'.format(corpora_path,f) for f in files_politica if f != '.DS_Store']"
   ]
  },
  {
   "cell_type": "markdown",
   "metadata": {},
   "source": [
    "# Word2Vec"
   ]
  },
  {
   "cell_type": "markdown",
   "metadata": {},
   "source": [
    "### Data preparation"
   ]
  },
  {
   "cell_type": "code",
   "execution_count": 5,
   "metadata": {},
   "outputs": [
    {
     "name": "stdout",
     "output_type": "stream",
     "text": [
      "Number of sentences: 17222\n",
      "[['sobre', 'o', 'blogbastidores', 'e', 'informações', 'exclusivas', 'sobre', 'política', ',', 'economia', ',', 'negócios', ',', 'esporte', ',', 'cultura', '-', 'e', 'tudo', 'o', 'mais', 'que', 'for', 'relevantesobre', 'o', 'autorlauro', 'jardimcomeçou', 'no', 'jornalismo', 'em', '1989', ',', 'no', 'globo', '.'], ['passou', 'pelas', 'redações', 'de', 'istoé', ',', 'jb', 'e', 'exame', '.'], ['entre', '1998', 'e', 'setembro', 'de', '2015', ',', 'trabalhou', 'em', 'veja', ',', 'onde', 'foi', 'chefe', 'da', 'sucursal', 'do', 'rio', ',', 'redator-chefe', 'e', 'editor', 'da', 'coluna', 'radar', 'desde', '2000.', 'voltou', 'ao', 'globo', 'em', '2015athos', 'mouracomeçou', 'a', 'carreira', 'no', 'globo', 'em', '2009.', 'é', 'amante', 'da', 'história', 'do', 'brasil', ',', 'e', 'se', 'interessa', 'por', 'todo', 'tipo', 'de', 'notícia', ',', 'dos', 'bastidores', 'da', 'política', 'nacional', 'aos', 'times', 'de', 'futebol', 'de', 'várzea', '.']]\n"
     ]
    }
   ],
   "source": [
    "all_sentences = []\n",
    "for file in files_politica:\n",
    "    with open(file, 'r') as text_file:\n",
    "        lines = text_file.readlines()\n",
    "        for line in lines:\n",
    "            line = normalizer.lowercase(line)\n",
    "            sentences = normalizer.tokenize_sentences(line, save=False)\n",
    "            sentences = [normalizer.tokenize_words(sent, save=False) for sent in sentences]\n",
    "            all_sentences.extend(sentences)\n",
    "\n",
    "print(\"Number of sentences: {}\".format(len(all_sentences)))\n",
    "print(all_sentences[:3])"
   ]
  },
  {
   "cell_type": "markdown",
   "metadata": {},
   "source": [
    "# training"
   ]
  },
  {
   "cell_type": "code",
   "execution_count": 5,
   "metadata": {},
   "outputs": [],
   "source": [
    "# size: tamanho do vetor que representa as palavras, window: janela de palavras para contexto, \n",
    "# min_count: minimo de palavras para ser considerada, workers: \n",
    "w2vmodel_tecnologia = Word2Vec(all_sentences, size=200, window=5, min_count=3, workers=4)"
   ]
  },
  {
   "cell_type": "code",
   "execution_count": 6,
   "metadata": {},
   "outputs": [
    {
     "data": {
      "text/plain": [
       "[('presidente', 0.9792462587356567),\n",
       " ('presidido', 0.9756972789764404),\n",
       " ('stf', 0.9743261337280273),\n",
       " ('interino', 0.965011715888977),\n",
       " ('turismo', 0.9639201760292053),\n",
       " ('noronha', 0.9636476635932922),\n",
       " ('deputado', 0.9612151384353638),\n",
       " ('repúblicao', 0.9611080884933472),\n",
       " ('congresso.o', 0.9607368111610413),\n",
       " ('moro', 0.9596492052078247)]"
      ]
     },
     "execution_count": 6,
     "metadata": {},
     "output_type": "execute_result"
    }
   ],
   "source": [
    "w2vmodel_tecnologia.wv.most_similar('ministro')\n",
    "# Aplicação = Sistema de busca para encontrar nao so o que foi buscado mas algo que seja sinonimo"
   ]
  },
  {
   "cell_type": "markdown",
   "metadata": {},
   "source": [
    "# Doc2Vec\n",
    "https://arxiv.org/pdf/1405.4053v2.pdf"
   ]
  },
  {
   "cell_type": "markdown",
   "metadata": {},
   "source": [
    "# data preparation"
   ]
  },
  {
   "cell_type": "code",
   "execution_count": 7,
   "metadata": {},
   "outputs": [
    {
     "name": "stdout",
     "output_type": "stream",
     "text": [
      "Number of documents: 275\n"
     ]
    }
   ],
   "source": [
    "all_documents = []\n",
    "all_files = files_tecnologia\n",
    "all_files.extend(files_politica)\n",
    "for file in all_files:\n",
    "    with open(file, 'r') as text_file:\n",
    "        document = ' '.join(text_file.readlines())\n",
    "        document = normalizer.lowercase(document)\n",
    "        document_tokens = normalizer.tokenize_words(document)\n",
    "        all_documents.append(document_tokens)\n",
    "print(\"Number of documents: {}\".format(len(all_documents)))\n",
    "tagged_documents = [TaggedDocument(words=d, tags=[str(i)]) for i, d in enumerate(all_documents)]"
   ]
  },
  {
   "cell_type": "code",
   "execution_count": 8,
   "metadata": {},
   "outputs": [],
   "source": [
    "d2vmodel = Doc2Vec(tagged_documents, vector_size=20, window=2, min_count=1, workers=4)"
   ]
  },
  {
   "cell_type": "code",
   "execution_count": 9,
   "metadata": {},
   "outputs": [],
   "source": [
    "vector_tec = d2vmodel.infer_vector(all_documents[0])\n",
    "vector_tec2 = d2vmodel.infer_vector(all_documents[1])\n",
    "vector_pol = d2vmodel.infer_vector(all_documents[len(all_documents)-1])\n",
    "vector_pol2 = d2vmodel.infer_vector(all_documents[len(all_documents)-2])"
   ]
  },
  {
   "cell_type": "code",
   "execution_count": 10,
   "metadata": {},
   "outputs": [
    {
     "name": "stdout",
     "output_type": "stream",
     "text": [
      "-0.35652104020118713\n",
      "0.9581257700920105\n",
      "1.0\n"
     ]
    }
   ],
   "source": [
    "# run this block many times\n",
    "from scipy import spatial\n",
    "\n",
    "print(1 - spatial.distance.cosine(vector_pol, vector_tec))\n",
    "print(1 - spatial.distance.cosine(vector_pol, vector_pol2))\n",
    "print(1 - spatial.distance.cosine(vector_tec, vector_tec2))"
   ]
  },
  {
   "cell_type": "code",
   "execution_count": null,
   "metadata": {},
   "outputs": [],
   "source": []
  }
 ],
 "metadata": {
  "kernelspec": {
   "display_name": "Python 3",
   "language": "python",
   "name": "python3"
  },
  "language_info": {
   "codemirror_mode": {
    "name": "ipython",
    "version": 3
   },
   "file_extension": ".py",
   "mimetype": "text/x-python",
   "name": "python",
   "nbconvert_exporter": "python",
   "pygments_lexer": "ipython3",
   "version": "3.5.3"
  }
 },
 "nbformat": 4,
 "nbformat_minor": 2
}
