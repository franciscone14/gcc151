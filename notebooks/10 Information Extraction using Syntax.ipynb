{
 "cells": [
  {
   "cell_type": "code",
   "execution_count": 1,
   "metadata": {},
   "outputs": [],
   "source": [
    "import spacy"
   ]
  },
  {
   "cell_type": "code",
   "execution_count": 60,
   "metadata": {},
   "outputs": [],
   "source": [
    "# Returns \n",
    "def get_nouns(doc):\n",
    "    nouns = []\n",
    "    for token in doc:\n",
    "        if token.pos_ == \"NOUN\":\n",
    "            parts = token.tag_.split('|')\n",
    "            nouns.append({\"token\": token, \"number\": parts[3]})\n",
    "    return nouns\n",
    "\n",
    "def get_nmodifiers(head, doc):\n",
    "    for token in doc:\n",
    "        if token.head_ == token:\n",
    "            pass"
   ]
  },
  {
   "cell_type": "code",
   "execution_count": 62,
   "metadata": {},
   "outputs": [
    {
     "name": "stdout",
     "output_type": "stream",
     "text": [
      "[{'token': menino, 'number': 'S'}, {'token': prova, 'number': 'S'}, {'token': menina, 'number': 'S'}, {'token': resposta, 'number': 'S'}]\n"
     ]
    }
   ],
   "source": [
    "s = \"O menino foi bem na prova difícil e a menina colou a resposta errada.\"\n",
    "nlp = spacy.load('pt_core_news_sm')\n",
    "doc = nlp(s)\n",
    "# for token in doc:\n",
    "#     print(token.text, token.pos_, token.tag_, token.dep_, token.head)\n",
    "nps = get_nouns(doc)\n",
    "print(nps)\n",
    "\n",
    "# for sublist in nps:\n",
    "#     for token in sublist[:1]:\n",
    "#         print(\"O token e: \" + str(token))\n",
    "#         for word in token.subtree:\n",
    "#             print(word.pos_)\n",
    "#             if word.pos_ == \"ADJ\":\n",
    "#                 print(word.head_ + \" => \" + str(word))\n"
   ]
  },
  {
   "cell_type": "code",
   "execution_count": 64,
   "metadata": {},
   "outputs": [
    {
     "name": "stdout",
     "output_type": "stream",
     "text": [
      "[{'token': provas, 'number': 'P'}, {'token': meninas, 'number': 'F'}]\n"
     ]
    }
   ],
   "source": [
    "s = \"Os meninos foram bem nas provas e as meninas.\"\n",
    "nlp = spacy.load('pt_core_news_sm')\n",
    "doc = nlp(s)\n",
    "# for token in doc:\n",
    "#     print(token.text, token.pos_, token.tag_, token.dep_, token.head)\n",
    "nps = get_nouns(doc)\n",
    "print(nps)"
   ]
  },
  {
   "cell_type": "markdown",
   "metadata": {},
   "source": [
    "# Utilizar o córpus obtido para P1\n",
    "- Obter os núcleos (head) dos sintagmas nominais (SN)\n",
    "- Obter os modificadores do núcleo do SN\n",
    "- Para os núcleos dos sintagmas nominais, e os seus modificadores\n",
    "- Criar um dicionário:\n",
    "``` \n",
    "{\"núcleo\": [(\"modificador1\", freq), (\"modificador2\", freq)]}\n",
    "```\n",
    "- Produzir frases, com o seguinte padrão:\n",
    "```\n",
    "\"núcleo\" verbo_ser \"modificador\" mais frequente.\n",
    "```\n",
    "- o verbo ser, deve ser conjugado como \"é\" para núcleos de sintagmas nominais no singular e como \"são\" para núcleos de sintagmas nominais no plural"
   ]
  },
  {
   "cell_type": "code",
   "execution_count": null,
   "metadata": {},
   "outputs": [],
   "source": []
  }
 ],
 "metadata": {
  "kernelspec": {
   "display_name": "Python 3",
   "language": "python",
   "name": "python3"
  },
  "language_info": {
   "codemirror_mode": {
    "name": "ipython",
    "version": 3
   },
   "file_extension": ".py",
   "mimetype": "text/x-python",
   "name": "python",
   "nbconvert_exporter": "python",
   "pygments_lexer": "ipython3",
   "version": "3.5.2"
  }
 },
 "nbformat": 4,
 "nbformat_minor": 2
}
