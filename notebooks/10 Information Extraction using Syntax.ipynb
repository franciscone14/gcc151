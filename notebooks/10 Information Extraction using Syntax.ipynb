{
 "cells": [
  {
   "cell_type": "code",
   "execution_count": 21,
   "metadata": {},
   "outputs": [],
   "source": [
    "import spacy"
   ]
  },
  {
   "cell_type": "code",
   "execution_count": 5,
   "metadata": {},
   "outputs": [
    {
     "data": {
      "text/plain": [
       "0"
      ]
     },
     "execution_count": 5,
     "metadata": {},
     "output_type": "execute_result"
    }
   ],
   "source": [
    "import subprocess\n",
    "command = \"python -m spacy download pt_core_news_sm\".split()\n",
    "subprocess.call(command)"
   ]
  },
  {
   "cell_type": "code",
   "execution_count": 6,
   "metadata": {},
   "outputs": [],
   "source": [
    "from franc_lib import morphosyntax, syntax"
   ]
  },
  {
   "cell_type": "code",
   "execution_count": 2,
   "metadata": {},
   "outputs": [],
   "source": [
    "# morpho = morphosyntax.Morpho('pt_core_news_sm')"
   ]
  },
  {
   "cell_type": "code",
   "execution_count": 2,
   "metadata": {},
   "outputs": [],
   "source": [
    "string = \"O menino foi bem na prova difícil e a menina colou a resposta errada.\"\n",
    "# morpho.tag(string)"
   ]
  },
  {
   "cell_type": "code",
   "execution_count": 19,
   "metadata": {},
   "outputs": [
    {
     "name": "stdout",
     "output_type": "stream",
     "text": [
      "HEAD => prova\n",
      "SUBTREE\n",
      "O\n",
      "menino\n",
      "HEAD => colou\n",
      "SUBTREE\n",
      "a\n",
      "menina\n"
     ]
    }
   ],
   "source": [
    "s = syntax.Syntax()\n",
    "subj = s.get_SVO(string)\n",
    "\n",
    "for sub in subj:\n",
    "    print(\"HEAD => \" + sub.head.text)\n",
    "    print(\"SUBTREE\")\n",
    "    for tree in sub.subtree:\n",
    "        print(tree)"
   ]
  },
  {
   "cell_type": "code",
   "execution_count": 2,
   "metadata": {},
   "outputs": [],
   "source": [
    "# Returns \n",
    "def get_nouns(doc):\n",
    "    nouns = []\n",
    "    for token in doc:\n",
    "        if token.pos_ == \"NOUN\":\n",
    "            parts = token.tag_.split('|')\n",
    "            nouns.append({\"token\": token, \"number\": parts[3]})\n",
    "    return nouns\n",
    "\n",
    "def get_nmodifiers(head, doc):\n",
    "    for token in doc:\n",
    "        if token.head_ == token:\n",
    "            pass"
   ]
  },
  {
   "cell_type": "code",
   "execution_count": 59,
   "metadata": {},
   "outputs": [
    {
     "name": "stdout",
     "output_type": "stream",
     "text": [
      "TOKENS: \n",
      "violetas PROPN <np-idf>|N|M|P|@SUBJ> nsubj vermelhas\n",
      "são VERB <mv>|V|PR|3P|IND|@FS-STA cop vermelhas\n",
      "vermelhas ADJ ADJ|F|P|@<SC ROOT vermelhas\n",
      ", PUNCT PU|@PU punct vermelho\n",
      "tudo PRON <quant>|INDP|M|S|@SUBJ> nsubj vermelho\n",
      "é VERB <mv>|V|PR|3S|IND|@FS-STA cop vermelho\n",
      "vermelho ADJ ADJ|M|S|@<SC conj vermelhas\n",
      "n SCONJ KS|@SUB case lugar\n",
      "esse DET <dem>|DET|M|S|@>N det lugar\n",
      "lugar NOUN <np-def>|N|M|S|@<ACC obl vermelho\n",
      "FILTRO: \n",
      "vermelhas\n",
      "vermelho\n",
      "[(violetas, são, vermelhas), (tudo, é, vermelho)]\n"
     ]
    }
   ],
   "source": [
    "s = \"violetas são vermelhas, tudo é vermelho nesse lugar\"\n",
    "nlp = spacy.load('pt_core_news_sm')\n",
    "doc = nlp(s)\n",
    "\n",
    "print(\"TOKENS: \")\n",
    "for token in doc:\n",
    "    print(token.text, token.pos_, token.tag_, token.dep_, token.head)\n",
    "    \n",
    "print(\"FILTRO: \")\n",
    "sujeitos = []\n",
    "for token in doc:\n",
    "    if token.dep_ == 'nsubj': sujeitos.append(token)\n",
    "     \n",
    "teste = []\n",
    "for suj in sujeitos:\n",
    "    head = suj.head\n",
    "    print(head.text)\n",
    "    \n",
    "    if head.pos_ == \"VERB\" and head.head.pos_ == \"NOUN\":\n",
    "        teste.append((suj, head, head.head))\n",
    "        \n",
    "    elif head.pos_ in [\"NOUN\", \"ADJ\"]:\n",
    "        for token in head.subtree:\n",
    "            if token.pos_ == \"VERB\" and token.head == head:\n",
    "                teste.append((suj, token, head))\n",
    "                break\n",
    "\n",
    "print(teste)\n",
    "        \n",
    "# nps = get_nouns(doc)\n",
    "# print(nps)\n",
    "\n",
    "# for sublist in nps:\n",
    "#     for token in sublist[:1]:\n",
    "#         print(\"O token e: \" + str(token))\n",
    "#         for word in token.subtree:\n",
    "#             print(word.pos_)\n",
    "#             if word.pos_ == \"ADJ\":\n",
    "#                 print(word.head_ + \" => \" + str(word))\n"
   ]
  },
  {
   "cell_type": "code",
   "execution_count": 22,
   "metadata": {},
   "outputs": [
    {
     "name": "stdout",
     "output_type": "stream",
     "text": [
      "Os DET <artd>|ART|M|P|@>N det meninos\n",
      "meninos SYM <np-def>|N|M|P|@SUBJ> nsubj nas\n",
      "foram AUX <aux>|V|PS|3P|IND|@FS-STA cop nas\n",
      "bem ADV <quant>|ADV|@>A advmod nas\n",
      "nas ADJ ADJ|F|P|@>N ROOT nas\n",
      "provas NOUN <np-def>|N|F|P|@<SUBJ amod nas\n",
      "e CCONJ <co-acc>|KC|@CO cc meninas\n",
      "as DET <artd>|ART|F|P|@>N det meninas\n",
      "meninas NOUN <cjt>|<np-def>|N|F|P|@<ACC conj nas\n",
      ". PUNCT PU|@PU punct nas\n"
     ]
    },
    {
     "ename": "NameError",
     "evalue": "name 'get_nouns' is not defined",
     "output_type": "error",
     "traceback": [
      "\u001b[0;31m---------------------------------------------------------------------------\u001b[0m",
      "\u001b[0;31mNameError\u001b[0m                                 Traceback (most recent call last)",
      "\u001b[0;32m<ipython-input-22-7d440c469460>\u001b[0m in \u001b[0;36m<module>\u001b[0;34m\u001b[0m\n\u001b[1;32m      4\u001b[0m \u001b[0;32mfor\u001b[0m \u001b[0mtoken\u001b[0m \u001b[0;32min\u001b[0m \u001b[0mdoc\u001b[0m\u001b[0;34m:\u001b[0m\u001b[0;34m\u001b[0m\u001b[0m\n\u001b[1;32m      5\u001b[0m     \u001b[0mprint\u001b[0m\u001b[0;34m(\u001b[0m\u001b[0mtoken\u001b[0m\u001b[0;34m.\u001b[0m\u001b[0mtext\u001b[0m\u001b[0;34m,\u001b[0m \u001b[0mtoken\u001b[0m\u001b[0;34m.\u001b[0m\u001b[0mpos_\u001b[0m\u001b[0;34m,\u001b[0m \u001b[0mtoken\u001b[0m\u001b[0;34m.\u001b[0m\u001b[0mtag_\u001b[0m\u001b[0;34m,\u001b[0m \u001b[0mtoken\u001b[0m\u001b[0;34m.\u001b[0m\u001b[0mdep_\u001b[0m\u001b[0;34m,\u001b[0m \u001b[0mtoken\u001b[0m\u001b[0;34m.\u001b[0m\u001b[0mhead\u001b[0m\u001b[0;34m)\u001b[0m\u001b[0;34m\u001b[0m\u001b[0m\n\u001b[0;32m----> 6\u001b[0;31m \u001b[0mnps\u001b[0m \u001b[0;34m=\u001b[0m \u001b[0mget_nouns\u001b[0m\u001b[0;34m(\u001b[0m\u001b[0mdoc\u001b[0m\u001b[0;34m)\u001b[0m\u001b[0;34m\u001b[0m\u001b[0m\n\u001b[0m\u001b[1;32m      7\u001b[0m \u001b[0mprint\u001b[0m\u001b[0;34m(\u001b[0m\u001b[0mnps\u001b[0m\u001b[0;34m)\u001b[0m\u001b[0;34m\u001b[0m\u001b[0m\n",
      "\u001b[0;31mNameError\u001b[0m: name 'get_nouns' is not defined"
     ]
    }
   ],
   "source": [
    "s = \"Os meninos foram bem nas provas e as meninas.\"\n",
    "nlp = spacy.load('pt_core_news_sm')\n",
    "doc = nlp(s)\n",
    "for token in doc:\n",
    "    print(token.text, token.pos_, token.tag_, token.dep_, token.head)\n",
    "nps = get_nouns(doc)\n",
    "print(nps)"
   ]
  },
  {
   "cell_type": "markdown",
   "metadata": {},
   "source": [
    "# Utilizar o córpus obtido para P1\n",
    "- Obter os núcleos (head) dos sintagmas nominais (SN)\n",
    "- Obter os modificadores do núcleo do SN\n",
    "- Para os núcleos dos sintagmas nominais, e os seus modificadores\n",
    "- Criar um dicionário:\n",
    "``` \n",
    "{\"núcleo\": [(\"modificador1\", freq), (\"modificador2\", freq)]}\n",
    "```\n",
    "- Produzir frases, com o seguinte padrão:\n",
    "```\n",
    "\"núcleo\" verbo_ser \"modificador\" mais frequente.\n",
    "```\n",
    "- o verbo ser, deve ser conjugado como \"é\" para núcleos de sintagmas nominais no singular e como \"são\" para núcleos de sintagmas nominais no plural"
   ]
  },
  {
   "cell_type": "code",
   "execution_count": null,
   "metadata": {},
   "outputs": [],
   "source": []
  }
 ],
 "metadata": {
  "kernelspec": {
   "display_name": "Python 3",
   "language": "python",
   "name": "python3"
  },
  "language_info": {
   "codemirror_mode": {
    "name": "ipython",
    "version": 3
   },
   "file_extension": ".py",
   "mimetype": "text/x-python",
   "name": "python",
   "nbconvert_exporter": "python",
   "pygments_lexer": "ipython3",
   "version": "3.5.3"
  }
 },
 "nbformat": 4,
 "nbformat_minor": 2
}
